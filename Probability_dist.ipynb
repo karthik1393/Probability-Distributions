{
 "cells": [
  {
   "cell_type": "code",
   "execution_count": 3,
   "metadata": {},
   "outputs": [],
   "source": [
    "\n",
    "import numpy as np\n",
    "import pandas as pd\n",
    "import matplotlib.pyplot as plt\n",
    "import scipy.stats  as stats"
   ]
  },
  {
   "cell_type": "code",
   "execution_count": 2,
   "metadata": {},
   "outputs": [],
   "source": [
    "%matplotlib inline"
   ]
  },
  {
   "cell_type": "markdown",
   "metadata": {},
   "source": [
    "## Uniform distribution\n",
    "The uniform distribution is a probability distribution where each value within a certain range is equally likely to occur and values outside of the range never occur. If we make a density plot of a uniform distribution, it appears flat because no value is any more likely (and hence has any more density) than another."
   ]
  },
  {
   "cell_type": "code",
   "execution_count": 4,
   "metadata": {},
   "outputs": [],
   "source": [
    "uniform=stats.uniform.rvs(size=10000,loc=0,scale=10)"
   ]
  },
  {
   "cell_type": "code",
   "execution_count": 7,
   "metadata": {},
   "outputs": [
    {
     "data": {
      "text/plain": [
       "<matplotlib.axes._subplots.AxesSubplot at 0xa3103e3278>"
      ]
     },
     "execution_count": 7,
     "metadata": {},
     "output_type": "execute_result"
    },
    {
     "data": {
      "image/png": "iVBORw0KGgoAAAANSUhEUgAAAYwAAAD8CAYAAABkbJM/AAAABHNCSVQICAgIfAhkiAAAAAlwSFlz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\n+f84s8jVCxzNzQAAAABJRU5ErkJggg==\n",
      "text/plain": [
       "<matplotlib.figure.Figure at 0xa3104269b0>"
      ]
     },
     "metadata": {},
     "output_type": "display_data"
    }
   ],
   "source": [
    "pd.DataFrame(uniform).plot(kind='density',xlim=(-1,11))"
   ]
  },
  {
   "cell_type": "code",
   "execution_count": 8,
   "metadata": {},
   "outputs": [
    {
     "data": {
      "text/plain": [
       "0.25"
      ]
     },
     "execution_count": 8,
     "metadata": {},
     "output_type": "execute_result"
    }
   ],
   "source": [
    "stats.uniform.cdf(x=2.5,loc=0,scale=10) ## gives the probabilty of values less than 2.5. Please remeber that cdf for a random variable X is equal to p(X<=x)    "
   ]
  },
  {
   "cell_type": "code",
   "execution_count": 9,
   "metadata": {},
   "outputs": [
    {
     "name": "stdout",
     "output_type": "stream",
     "text": [
      "density at x value :-1\n",
      "0.0\n",
      "density at x value :2\n",
      "0.1\n",
      "density at x value :5\n",
      "0.1\n",
      "density at x value :8\n",
      "0.1\n",
      "density at x value :11\n",
      "0.0\n"
     ]
    }
   ],
   "source": [
    "## This is for PDF. please note that probabilty density function for all the values within the range will be same. The probability of values outside the range will be zero\n",
    "for x in range(-1,12,3):\n",
    "    print(\"density at x value :\"+ str(x))\n",
    "    print(stats.uniform.pdf(x,loc=0,scale=10))"
   ]
  },
  {
   "cell_type": "markdown",
   "metadata": {},
   "source": [
    "# Binomial Distribution:\n",
    "\n",
    "The binomial distribution is a discrete probability distribution that models the outcomes of a given number of random trails of some experiment or event. The binomial is defined by two parameters: the probability of success in any given trial and the number of trials. The binomial distribution tells you how likely it is to achieve a given number of successes in n trials of the experiment. For example, we could model flipping a fair coin 10 times with a binomial distribution where the number of trials is set to 10 and the probability of success is set to 0.5. In this case the distribution would tell us how likely it is to get zero heads, 1 head, 2 heads and so on."
   ]
  },
  {
   "cell_type": "code",
   "execution_count": 18,
   "metadata": {},
   "outputs": [
    {
     "data": {
      "text/plain": [
       "array([5, 3, 4, ..., 2, 4, 3])"
      ]
     },
     "execution_count": 18,
     "metadata": {},
     "output_type": "execute_result"
    }
   ],
   "source": [
    "fair_coin=stats.binom.rvs(n=10,p=0.5,size=10000) ## 10 flips in each of the 10000 trails\n",
    "fair_coin"
   ]
  },
  {
   "cell_type": "code",
   "execution_count": 19,
   "metadata": {},
   "outputs": [
    {
     "name": "stdout",
     "output_type": "stream",
     "text": [
      "col_0   0   1    2     3     4     5     6     7    8   9   10\n",
      "row_0                                                         \n",
      "counts  11  86  461  1166  2036  2524  2000  1177  436  92  11\n"
     ]
    },
    {
     "data": {
      "text/plain": [
       "array([[<matplotlib.axes._subplots.AxesSubplot object at 0x000000A3115A0EF0>]], dtype=object)"
      ]
     },
     "execution_count": 19,
     "metadata": {},
     "output_type": "execute_result"
    },
    {
     "data": {
      "image/png": "iVBORw0KGgoAAAANSUhEUgAAAYEAAAEICAYAAAC55kg0AAAABHNCSVQICAgIfAhkiAAAAAlwSFlz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\nISBJDTMEJKlhhoAkNez/AXZqhlYVMmkLAAAAAElFTkSuQmCC\n",
      "text/plain": [
       "<matplotlib.figure.Figure at 0xa310590cc0>"
      ]
     },
     "metadata": {},
     "output_type": "display_data"
    }
   ],
   "source": [
    "print(pd.crosstab(index='counts',columns=fair_coin))\n",
    "pd.DataFrame(fair_coin).hist(range=(-0.5,10.5), bins=11)"
   ]
  },
  {
   "cell_type": "code",
   "execution_count": 22,
   "metadata": {},
   "outputs": [
    {
     "name": "stdout",
     "output_type": "stream",
     "text": [
      "col_0   2    3     4     5      6      7      8      9      10\n",
      "row_0                                                         \n",
      "counts  16  160  1103  5304  17462  40377  60439  53833  21306\n"
     ]
    },
    {
     "data": {
      "text/plain": [
       "array([[<matplotlib.axes._subplots.AxesSubplot object at 0x000000A31189CA20>]], dtype=object)"
      ]
     },
     "execution_count": 22,
     "metadata": {},
     "output_type": "execute_result"
    },
    {
     "data": {
      "image/png": "iVBORw0KGgoAAAANSUhEUgAAAYcAAAEICAYAAAC0+DhzAAAABHNCSVQICAgIfAhkiAAAAAlwSFlz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\nAABJRU5ErkJggg==\n",
      "text/plain": [
       "<matplotlib.figure.Figure at 0xa311897710>"
      ]
     },
     "metadata": {},
     "output_type": "display_data"
    }
   ],
   "source": [
    "biased_coin=stats.binom.rvs(n=10,p=0.8,size=200000)\n",
    "print(pd.crosstab(index='counts',columns=biased_coin))\n",
    "pd.DataFrame(biased_coin).hist(range=(-1,10),bins=11)"
   ]
  },
  {
   "cell_type": "code",
   "execution_count": 26,
   "metadata": {},
   "outputs": [
    {
     "data": {
      "text/plain": [
       "0.24609375000000025"
      ]
     },
     "execution_count": 26,
     "metadata": {},
     "output_type": "execute_result"
    }
   ],
   "source": [
    "stats.binom.cdf(k=3,p=0.5,n=10)\n",
    "stats.binom.pmf(k=5,p=0.5,n=10)"
   ]
  },
  {
   "cell_type": "markdown",
   "metadata": {},
   "source": [
    "### Exponential dsitrbution:\n",
    "It is used to find the length of time interval between two events.\n",
    "Other examples are:\n",
    "\n",
    "1. Length of time beteeen metro arrivals,\n",
    "2. Length of time between arrivals at a gas station\n",
    "3. The life of an Air Conditioner\n",
    "\n",
    "# Gemoetrical Distribution:\n",
    "The geometric distribution is discrete and models the number of trials it takes to achieve a success in repeated experiments with a given probability of success."
   ]
  },
  {
   "cell_type": "code",
   "execution_count": 28,
   "metadata": {},
   "outputs": [
    {
     "name": "stdout",
     "output_type": "stream",
     "text": [
      "col_0     1     2     3    4    5    6   7   8   9   10  11  12  15\n",
      "row_0                                                              \n",
      "counts  5052  2485  1212  629  329  141  69  38  14  16  10   4   1\n"
     ]
    },
    {
     "data": {
      "text/plain": [
       "array([[<matplotlib.axes._subplots.AxesSubplot object at 0x000000A3119EE588>]], dtype=object)"
      ]
     },
     "execution_count": 28,
     "metadata": {},
     "output_type": "execute_result"
    },
    {
     "data": {
      "image/png": "iVBORw0KGgoAAAANSUhEUgAAAYEAAAEICAYAAAC55kg0AAAABHNCSVQICAgIfAhkiAAAAAlwSFlz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\nGvb/ACcRcdgnyufsAAAAAElFTkSuQmCC\n",
      "text/plain": [
       "<matplotlib.figure.Figure at 0xa3119ee2b0>"
      ]
     },
     "metadata": {},
     "output_type": "display_data"
    }
   ],
   "source": [
    "\n",
    "np.random.seed(12)\n",
    "\n",
    "flips_till_heads = stats.geom.rvs(size=10000,  # Generate geometric data\n",
    "                                  p=0.5)       # With success prob 0.5\n",
    "\n",
    "# Print table of counts\n",
    "print( pd.crosstab(index=\"counts\", columns= flips_till_heads))\n",
    "\n",
    "# Plot histogram\n",
    "pd.DataFrame(flips_till_heads).hist(range=(-0.5,max(flips_till_heads)+0.5)\n",
    "                                    , bins=max(flips_till_heads)+1)"
   ]
  },
  {
   "cell_type": "markdown",
   "metadata": {},
   "source": [
    "## Poisson Distribution:\n",
    "Number of events happening in a time interval.\n",
    "\n",
    "Examples: \n",
    "The number of emergency calls recorded at a hospital in a day.\n",
    "The number of thefts reported in an area on a day.\n",
    "The number of customers arriving at a salon in an hour.\n",
    "The number of suicides reported in a particular city.\n",
    "The number of printing errors at each page of the book."
   ]
  },
  {
   "cell_type": "code",
   "execution_count": 48,
   "metadata": {},
   "outputs": [
    {
     "name": "stdout",
     "output_type": "stream",
     "text": [
      "col_0       0      1      2     3     4    5   6  7  8\n",
      "row_0                                                 \n",
      "counts  36784  36674  18503  6140  1535  307  49  7  1\n"
     ]
    },
    {
     "data": {
      "text/plain": [
       "array([[<matplotlib.axes._subplots.AxesSubplot object at 0x000000A312E136A0>]], dtype=object)"
      ]
     },
     "execution_count": 48,
     "metadata": {},
     "output_type": "execute_result"
    },
    {
     "data": {
      "image/png": "iVBORw0KGgoAAAANSUhEUgAAAYcAAAEICAYAAAC0+DhzAAAABHNCSVQICAgIfAhkiAAAAAlwSFlz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\n",
      "text/plain": [
       "<matplotlib.figure.Figure at 0xa311b0c198>"
      ]
     },
     "metadata": {},
     "output_type": "display_data"
    }
   ],
   "source": [
    "arrival_rate=stats.poisson.rvs(size=100000,mu=1) ## average arrival rate of 1.(edit as 10 and check it)\n",
    "print(pd.crosstab(index='counts',columns=arrival_rate))\n",
    "pd.DataFrame(arrival_rate).hist(range=(-0.5,max(arrival_rate)+0.5)\n",
    "                                    , bins=max(arrival_rate)+1)"
   ]
  },
  {
   "cell_type": "code",
   "execution_count": 49,
   "metadata": {},
   "outputs": [
    {
     "data": {
      "text/plain": [
       "0.067085962879031888"
      ]
     },
     "execution_count": 49,
     "metadata": {},
     "output_type": "execute_result"
    }
   ],
   "source": [
    "stats.poisson.cdf(k=5,     # Check the probability of 5 arrivals or less\n",
    "                  mu=10)   # With arrival rate 10"
   ]
  },
  {
   "cell_type": "code",
   "execution_count": 50,
   "metadata": {},
   "outputs": [
    {
     "data": {
      "text/plain": [
       "0.12511003572113372"
      ]
     },
     "execution_count": 50,
     "metadata": {},
     "output_type": "execute_result"
    }
   ],
   "source": [
    "\n",
    "stats.poisson.pmf(k=10,     # Check the prob f exactly 10 arrivals\n",
    "                  mu=10)    # With arrival rate 10"
   ]
  },
  {
   "cell_type": "markdown",
   "metadata": {},
   "source": [
    "# Point Estimates and Central Limit Theorem\n",
    "Point Estimates are the estimates of the population parameters based on the sample data. For eg, you have a population of 200,00 people and you have to find the average age in the population. In this situation, we can also take a sample of 2000 pople and compare it with the population mean. Sample mean neccessarily is npt equal to population mean because it depends upon various factors such as randomness,bad sampling methods etc."
   ]
  },
  {
   "cell_type": "code",
   "execution_count": 1,
   "metadata": {},
   "outputs": [],
   "source": [
    "%matplotlib inline\n",
    "import numpy as np\n",
    "import pandas as pd\n",
    "import scipy.stats as stats\n",
    "import matplotlib.pyplot as plt\n",
    "import random\n",
    "import math"
   ]
  },
  {
   "cell_type": "code",
   "execution_count": 4,
   "metadata": {},
   "outputs": [
    {
     "name": "stdout",
     "output_type": "stream",
     "text": [
      "Population mean : 40.498125\n",
      "sample mean: 40.038\n"
     ]
    }
   ],
   "source": [
    "np.random.seed(10)\n",
    "pop_age1=stats.poisson.rvs(loc=18,mu=35,size=100000)\n",
    "pop_age3=stats.poisson.rvs(loc=18,mu=10,size=100000)\n",
    "population=np.concatenate((pop_age1,pop_age3))\n",
    "print(\"Population mean :\",population.mean())\n",
    "## now take a sample from the population\n",
    "sample=np.random.choice(a=population,size=1000)\n",
    "print(\"sample mean:\", sample.mean())"
   ]
  },
  {
   "cell_type": "code",
   "execution_count": 12,
   "metadata": {},
   "outputs": [
    {
     "name": "stdout",
     "output_type": "stream",
     "text": [
      "African Black Proportion size:\n",
      "2.52\n",
      "Hispanic Proportion size:\n",
      "2.53\n",
      "Asian Proportion size:\n",
      "2.46\n",
      "white Proportion size:\n",
      "2.49\n"
     ]
    }
   ],
   "source": [
    "random.seed(100)\n",
    "races=(([\"white\"]*1000)+([\"Asian\"]*1000)+\\\n",
    "       ([\"Hispanic\"]*1000)+([\"African Black\"]*1000))\n",
    "race_sample=random.sample(races,1000)\n",
    "for race in set(races):\n",
    "    print(race,\"Proportion size:\")\n",
    "    print(race_sample.count(race)/100)"
   ]
  },
  {
   "cell_type": "markdown",
   "metadata": {},
   "source": [
    "Suppose if the distribution of the population is skewed then the distribution of the sample taken from that population will also be skewed. But imagine if we take multiple samples from the population, will the distribution still be skewed? the answer is #NO.\n",
    "Central limit theorem states that the mean of the sampling distribution will approach normal distribution when we increase the size of the samples."
   ]
  },
  {
   "cell_type": "code",
   "execution_count": 25,
   "metadata": {},
   "outputs": [
    {
     "data": {
      "text/plain": [
       "array([[<matplotlib.axes._subplots.AxesSubplot object at 0x000000EBB9DDE9B0>]], dtype=object)"
      ]
     },
     "execution_count": 25,
     "metadata": {},
     "output_type": "execute_result"
    },
    {
     "data": {
      "image/png": "iVBORw0KGgoAAAANSUhEUgAAAi4AAAIYCAYAAABKaWdvAAAABHNCSVQICAgIfAhkiAAAAAlwSFlz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\n",
      "text/plain": [
       "<matplotlib.figure.Figure at 0xebb9e044e0>"
      ]
     },
     "metadata": {},
     "output_type": "display_data"
    }
   ],
   "source": [
    "pd.DataFrame(population).hist(bins=35,figsize=(9,9),range=(15,50))"
   ]
  },
  {
   "cell_type": "code",
   "execution_count": 35,
   "metadata": {},
   "outputs": [],
   "source": [
    "### generate 200 samples from the population data\n",
    "np.random.seed(190)\n",
    "point_estimates=[]\n",
    "for x in range(200):\n",
    "    sampling=np.random.choice(a=population,size=150)\n",
    "    point_estimates.append(sampling.mean())\n",
    "   \n",
    "\n"
   ]
  },
  {
   "cell_type": "code",
   "execution_count": 38,
   "metadata": {},
   "outputs": [
    {
     "data": {
      "text/plain": [
       "<matplotlib.axes._subplots.AxesSubplot at 0xebbb4975f8>"
      ]
     },
     "execution_count": 38,
     "metadata": {},
     "output_type": "execute_result"
    },
    {
     "data": {
      "image/png": "iVBORw0KGgoAAAANSUhEUgAAAjMAAAIMCAYAAAAAfi26AAAABHNCSVQICAgIfAhkiAAAAAlwSFlz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\nij3+NwAAAABJRU5ErkJggg==\n",
      "text/plain": [
       "<matplotlib.figure.Figure at 0xebbb49eba8>"
      ]
     },
     "metadata": {},
     "output_type": "display_data"
    }
   ],
   "source": [
    "point_estimates\n",
    "pd.DataFrame(point_estimates).plot(kind=\"density\",figsize=(9,9),xlim=(35,45))"
   ]
  },
  
 ],
 "metadata": {
  "kernelspec": {
   "display_name": "Python 3",
   "language": "python",
   "name": "python3"
  },
  "language_info": {
   "codemirror_mode": {
    "name": "ipython",
    "version": 3
   },
   "file_extension": ".py",
   "mimetype": "text/x-python",
   "name": "python",
   "nbconvert_exporter": "python",
   "pygments_lexer": "ipython3",
   "version": "3.6.1"
  }
 },
 "nbformat": 4,
 "nbformat_minor": 2
}
